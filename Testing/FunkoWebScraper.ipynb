{
 "cells": [
  {
   "cell_type": "code",
   "execution_count": 1,
   "metadata": {},
   "outputs": [],
   "source": [
    "from selenium import webdriver\n",
    "import requests\n",
    "from bs4 import BeautifulSoup\n",
    "from time import sleep\n",
    "from selenium.webdriver.support import expected_conditions as EC\n",
    "from selenium.webdriver.common.by import By\n",
    "from selenium.webdriver.support.ui import WebDriverWait"
   ]
  },
  {
   "cell_type": "code",
   "execution_count": 2,
   "metadata": {},
   "outputs": [],
   "source": [
    "URL = 'https://en.wikipedia.org/wiki/Bat'\n",
    "page = requests.get(URL)\n",
    "driver = webdriver.Chrome('/Users/Sam/Downloads/chromedriver')\n",
    "driver.get('https://www.funko.com/shop-wetmore-forest')\n",
    "\n",
    "html = driver.page_source\n",
    "soup = BeautifulSoup(html)"
   ]
  },
  {
   "cell_type": "code",
   "execution_count": 3,
   "metadata": {},
   "outputs": [],
   "source": [
    "##pass in BeautifulSoup element and return xpath for selenium\n",
    "def xpath_soup(element):\n",
    "    components = []\n",
    "    child = element if element.name else element.parent\n",
    "    for parent in child.parents:  # type: bs4.element.Tag\n",
    "        siblings = parent.find_all(child.name, recursive=False)\n",
    "        components.append(\n",
    "            child.name if 1 == len(siblings) else '%s[%d]' % (\n",
    "                child.name,\n",
    "                next(i for i, s in enumerate(siblings, 1) if s is child)\n",
    "                )\n",
    "            )\n",
    "        child = parent\n",
    "    components.reverse()\n",
    "    return '/%s' % '/'.join(components)"
   ]
  },
  {
   "cell_type": "code",
   "execution_count": 4,
   "metadata": {},
   "outputs": [],
   "source": [
    "allBuys = []\n",
    "allAlts = ['Bugsy Wingnut (Fall) - Jumbo - Wetmore Forest','Tumblebee (Fall) - Jumbo - Wetmore Forest','Chester McFreckle (Fall) - Jumbo - Wetmore Forest','Picklez (Fall) - Jumbo - Wetmore Forest']\n",
    "for buys in allAlts :\n",
    "    img = soup.find('img', alt = buys)\n",
    "    holder = xpath_soup(img)\n",
    "    holder = holder[:-3]\n",
    "    holder += 'div/div[2]/button'\n",
    "    allBuys.append(holder)\n"
   ]
  },
  {
   "cell_type": "code",
   "execution_count": 5,
   "metadata": {},
   "outputs": [
    {
     "name": "stdout",
     "output_type": "stream",
     "text": [
      "ADD TO CART\n",
      "ADD TO CART\n",
      "ADD TO CART\n",
      "ADD TO CART\n"
     ]
    }
   ],
   "source": [
    "counter = 0\n",
    "for hold in allBuys:\n",
    "    clk = driver.find_element_by_xpath(hold)\n",
    "    print(clk.text)\n",
    "    clk.click()\n",
    "    WebDriverWait(driver, 10).until(EC.text_to_be_present_in_element((By.XPATH , hold), 'IN CART'))\n",
    "    counter += 1\n",
    "\n",
    "driver.get('https://www.funko.com/cart')"
   ]
  },
  {
   "cell_type": "code",
   "execution_count": null,
   "metadata": {},
   "outputs": [],
   "source": []
  }
 ],
 "metadata": {
  "kernelspec": {
   "display_name": "Python 3",
   "language": "python",
   "name": "python3"
  },
  "language_info": {
   "codemirror_mode": {
    "name": "ipython",
    "version": 3
   },
   "file_extension": ".py",
   "mimetype": "text/x-python",
   "name": "python",
   "nbconvert_exporter": "python",
   "pygments_lexer": "ipython3",
   "version": "3.7.6"
  }
 },
 "nbformat": 4,
 "nbformat_minor": 4
}
