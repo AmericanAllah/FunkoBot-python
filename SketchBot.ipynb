{
 "cells": [
  {
   "cell_type": "code",
   "execution_count": 1,
   "metadata": {},
   "outputs": [],
   "source": [
    "from selenium import webdriver"
   ]
  },
  {
   "cell_type": "code",
   "execution_count": 2,
   "metadata": {},
   "outputs": [
    {
     "name": "stderr",
     "output_type": "stream",
     "text": [
      "/Users/Sam/opt/anaconda3/lib/python3.7/site-packages/ipykernel_launcher.py:7: DeprecationWarning: use options instead of chrome_options\n",
      "  import sys\n"
     ]
    }
   ],
   "source": [
    "option = webdriver.ChromeOptions()\n",
    "chrome_prefs = {}\n",
    "option.experimental_options[\"prefs\"] = chrome_prefs\n",
    "\n",
    "chrome_prefs[\"profile.default_content_settings\"] = { \"popups\": 0 }\n",
    "\n",
    "driver = webdriver.Chrome(chrome_options=option,executable_path = '/Users/Sam/Downloads/chromedriver')"
   ]
  },
  {
   "cell_type": "markdown",
   "metadata": {},
   "source": [
    "So basically just put the name of the funkos with '' and a comma between each in the box names_of_funkos = []\n",
    "this should look like this: names_of_funkos = ['ppfunko','spiderman69','batman420'] \n",
    "you can put as many names as your heart desires until the site realizes that your botting so don't be too much of a greedy little on"
   ]
  },
  {
   "cell_type": "code",
   "execution_count": 17,
   "metadata": {},
   "outputs": [],
   "source": [
    "names_of_funkos = ['Tumblebee (Fall) - Jumbo - Wetmore Forest'] "
   ]
  },
  {
   "cell_type": "code",
   "execution_count": 22,
   "metadata": {},
   "outputs": [],
   "source": [
    "find_name = driver.find_element_by_xpath(\"//*[contains(text(), 'Tumblebee (Fall) - Jumbo - Wetmore Forest')]\")\n",
    "find_name.find_element_by_xpath(\"//*[contains(text(), 'Add To Cart')]\").click()"
   ]
  },
  {
   "cell_type": "code",
   "execution_count": 19,
   "metadata": {},
   "outputs": [],
   "source": [
    "for name in names_of_funkos:\n",
    "    find_name = driver.find_element_by_xpath(\"//*[contains(text(), name)]\")\n",
    "    find_name.find_element_by_xpath(\"//*[contains(text(), 'Add To Cart')]\").click()\n",
    "    #driver.implicitly_wait(30)"
   ]
  },
  {
   "cell_type": "code",
   "execution_count": null,
   "metadata": {},
   "outputs": [],
   "source": []
  },
  {
   "cell_type": "code",
   "execution_count": null,
   "metadata": {},
   "outputs": [],
   "source": []
  }
 ],
 "metadata": {
  "kernelspec": {
   "display_name": "Python 3",
   "language": "python",
   "name": "python3"
  },
  "language_info": {
   "codemirror_mode": {
    "name": "ipython",
    "version": 3
   },
   "file_extension": ".py",
   "mimetype": "text/x-python",
   "name": "python",
   "nbconvert_exporter": "python",
   "pygments_lexer": "ipython3",
   "version": "3.7.6"
  }
 },
 "nbformat": 4,
 "nbformat_minor": 4
}
